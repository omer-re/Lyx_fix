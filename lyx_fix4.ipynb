{
  "nbformat": 4,
  "nbformat_minor": 0,
  "metadata": {
    "kernelspec": {
      "display_name": "Python 3",
      "language": "python",
      "name": "python3"
    },
    "language_info": {
      "codemirror_mode": {
        "name": "ipython",
        "version": 3
      },
      "file_extension": ".py",
      "mimetype": "text/x-python",
      "name": "python",
      "nbconvert_exporter": "python",
      "pygments_lexer": "ipython3",
      "version": "3.8.3"
    },
    "colab": {
      "name": "lyx_fix4.ipynb",
      "provenance": [],
      "include_colab_link": true
    }
  },
  "cells": [
    {
      "cell_type": "markdown",
      "metadata": {
        "id": "view-in-github",
        "colab_type": "text"
      },
      "source": [
        "<a href=\"https://colab.research.google.com/github/omer-re/Lyx_fix/blob/main/lyx_fix4.ipynb\" target=\"_parent\"><img src=\"https://colab.research.google.com/assets/colab-badge.svg\" alt=\"Open In Colab\"/></a>"
      ]
    },
    {
      "cell_type": "code",
      "metadata": {
        "id": "JiZylj7b--xl"
      },
      "source": [
        "# Omer's script for fixing some of the Lyx's missing features\n",
        "\n",
        "import os"
      ],
      "execution_count": null,
      "outputs": []
    },
    {
      "cell_type": "code",
      "metadata": {
        "id": "sWJNf-Zd--x2",
        "outputId": "0c605d86-8fd9-4fae-f04e-9104bf50a92a"
      },
      "source": [
        "answers=set(['Y','N'])\n",
        "\n",
        "path_to_file=input(\"Paste path to your .lyx file here:  \")\n",
        "#path_to_file=r\"C:\\Users\\omer.reuveni\\PycharmProjects\\lyx_fixer\\test1 - Copy.lyx\"\n",
        "\n",
        "width_input=input(\"Choose width as % of page (proper value in range of 1-100):  \")\n",
        "if (int(width_percent) not in range(1,100)):\n",
        "    print(\"Illegal instructions\")\n",
        "    \n",
        "override_current=input(\"Would you like to over-ride current formatting? reply with Y or N    \")\n",
        "if (override_current not in answers):\n",
        "    print(\"Illegal instructions\")\n",
        "    \n",
        "trim_path=input(\"Would you like to trim images full path? reply with Y or N    \")\n",
        "if (trim_path not in answers):\n",
        "    print(\"Illegal instructions\")\n",
        "    \n",
        "    \n",
        "if \"%\" in width_input:\n",
        "    width_setting=width_input[:-1]+\"page%\"\"\n",
        "    print(\"% of page :\",width_setting)\n",
        "else:\n",
        "    width_setting=width_input[:-1]+\"cm\"\n",
        "    print(\"cm :\",width_setting)\n",
        "    \n",
        "\n",
        "#if (override_current not in answers) or (trim_path not in answers) or (width_percent not in range(1,100)):"
      ],
      "execution_count": null,
      "outputs": [
        {
          "output_type": "stream",
          "text": [
            "Paste path to your .lyx file here:   test1 - Copy.lyx\n",
            "Choose width as % of page (proper value in range of 1-100):   47\n",
            "Would you like to over-ride current formatting? reply with Y or N     Y\n",
            "Would you like to trim images full path? reply with Y or N     Y\n"
          ],
          "name": "stdin"
        }
      ]
    },
    {
      "cell_type": "code",
      "metadata": {
        "id": "6oz-EwOf--x7",
        "outputId": "7e00b02e-ed2c-4560-958b-81c64214b426"
      },
      "source": [
        "# open file, read it to variable, close it\n",
        "\n",
        "f = open(path_to_file, \"r\")\n",
        "contents = f.readlines()\n",
        "f.close()\n",
        "\n",
        "#print(type(contents))\n",
        "#print(contents)"
      ],
      "execution_count": null,
      "outputs": [
        {
          "output_type": "stream",
          "text": [
            "<class 'list'>\n"
          ],
          "name": "stdout"
        }
      ]
    },
    {
      "cell_type": "code",
      "metadata": {
        "id": "2-kz5iIO--x_",
        "outputId": "b3f497c7-5006-4195-8fcc-56376c766f92"
      },
      "source": [
        "lyx_filename_path, lyx_filename_tail=os.path.split(path_to_file)\n",
        "curr_dir = os.getcwd()\n",
        "\n",
        "print(lyx_filename_path+\"\\n\", lyx_filename_tail+\"\\n\", curr_dir)"
      ],
      "execution_count": null,
      "outputs": [
        {
          "output_type": "stream",
          "text": [
            "\n",
            " test1 - Copy.lyx\n",
            " C:\\Users\\omer.reuveni\\PycharmProjects\\lyx_fixer\n"
          ],
          "name": "stdout"
        }
      ]
    },
    {
      "cell_type": "code",
      "metadata": {
        "id": "6wwIhoCZ--yA",
        "outputId": "75e22a16-3609-479f-8e37-ff082dd5912f"
      },
      "source": [
        "# process .lyx only\n",
        "if not path_to_file.endswith('.lyx'):\n",
        "    print(\"It isn't a .lyx file\\n\")\n",
        "    #f.close()\n",
        "    exit(1)\n",
        "    \n",
        "else:\n",
        "    # read line by line\n",
        "    for num, line in enumerate(contents, 1):\n",
        "        #print(num,\"\\t\",line)\n",
        "        if \"filename\" in line:\n",
        "            # this is the graphic's line\n",
        "            words_of_line=line.split(\" \")\n",
        "            obj_path=words_of_line[1]\n",
        "            #print(words_of_line[1])\n",
        "            #print(curr_dir)\n",
        "            \n",
        "            # changes obj_path to local path only:   \n",
        "            if str(curr_dir) in obj_path and trim_path==\"Y\" :\n",
        "                head, tail = os.path.split(obj_path)\n",
        "                #print(curr_dir)\n",
        "                #print(tail)\n",
        "                #print(\"original: \",line)\n",
        "                \n",
        "                line=line.replace(line, \"{} {}\".format(words_of_line[0], tail))\n",
        "#                 print(line)\n",
        "#                 print(\"contents[num-1] : \",contents[num-1])\n",
        "                contents[num-1]=\"{} {}\".format(words_of_line[0], tail)\n",
        "#                 print(\"$ contents[num-1] : \",contents[num-1])\n",
        "\n",
        "\n",
        "            #print(\"changed: \",line)\n",
        "            \n",
        "            \n",
        "            ## Formatting width\n",
        "            # check if object is already formatted\n",
        "            if \"width\" in (contents[num]) and override_current==\"N\":\n",
        "                # formatting exists\n",
        "                print(\"Line {} was skipped as the object {} is already formatted\\n\".format(num,tail))\n",
        "            \n",
        "            else:\n",
        "                # object isn't formatted\n",
        "                contents.insert(num, \"\\twidth {}\\n\".format(width_setting))\n",
        "                \n",
        "                #contents.insert(num, \"\\twidth {}page%\\n\".format(width_percent))\n",
        "                # width as abs value in CM\n",
        "                #contents.insert(num, \"\\twidth {}cm\\n\".format(width_cm))\n",
        "\n",
        "\n",
        "    #re-write file and finalize operation\n",
        "    new_file = open(\"fixed_{}\".format(lyx_filename_tail), \"w\")\n",
        "    #contents = \"\".join(contents)\n",
        "    #f.writelines(contents)  #possible improvement\n",
        "    print(\"\\n{} was handled successfully \".format(lyx_filename_tail))\n",
        "    new_file.write(\"\".join(contents))\n",
        "    new_file.close()\n"
      ],
      "execution_count": null,
      "outputs": [
        {
          "output_type": "stream",
          "text": [
            "\n",
            "test1 - Copy.lyx was handled successfully \n"
          ],
          "name": "stdout"
        }
      ]
    },
    {
      "cell_type": "markdown",
      "metadata": {
        "id": "PfhNoWv0--yC"
      },
      "source": [
        "## Example:\n",
        "Original:  \tfilename C:\\Users\\omer\\lyx_fixer\\pasted1.png\n",
        "\n",
        "After:  \tfilename pasted1.png"
      ]
    }
  ]
}